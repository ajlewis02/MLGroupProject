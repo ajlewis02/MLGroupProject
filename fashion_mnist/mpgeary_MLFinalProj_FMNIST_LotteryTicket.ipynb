{
  "cells": [
    {
      "cell_type": "markdown",
      "metadata": {
        "colab_type": "text",
        "id": "view-in-github"
      },
      "source": [
        "<a href=\"https://colab.research.google.com/drive/1DEN0E8ZHVD_D3MezIch6noNJ5wddqFLc?usp=sharing\" target=\"_parent\"><img src=\"https://colab.research.google.com/assets/colab-badge.svg\" alt=\"Open In Colab\"/></a>\n",
        "\n",
        "**Fashion MNIST Convolutional Neural Network - Lottery Ticket**\n",
        "1. Define Architecture"
      ]
    },
    {
      "cell_type": "code",
      "execution_count": null,
      "metadata": {
        "id": "75peb1hbsV3b"
      },
      "outputs": [],
      "source": [
        "from __future__ import print_function\n",
        "import torch\n",
        "import torch.nn as nn\n",
        "import torch.nn.functional as F\n",
        "import torch.optim as optim\n",
        "import torch.nn.utils.prune as prune\n",
        "import matplotlib.pyplot as plt\n",
        "import numpy as np\n",
        "\n",
        "from torchvision import datasets, transforms\n",
        "from torch.optim.lr_scheduler import StepLR\n",
        "\n",
        "class FashionModel(nn.Module):\n",
        "    def __init__(self):\n",
        "        super(FashionModel, self).__init__()\n",
        "        self.conv1 = nn.Conv2d(1, 32, 3, 1)\n",
        "        self.conv2 = nn.Conv2d(32, 64, 3, 1)\n",
        "        self.fc1 = nn.Linear(9216, 128)\n",
        "        self.fc2 = nn.Linear(128, 10)\n",
        "\n",
        "    def forward(self, x):\n",
        "        x = self.conv1(x)\n",
        "        x = F.relu(x)\n",
        "        \n",
        "        x = self.conv2(x)\n",
        "        x = F.relu(x)\n",
        "        x = F.max_pool2d(x, 2)\n",
        "\n",
        "        x = torch.flatten(x, 1)\n",
        "        x = self.fc1(x)\n",
        "        x = F.relu(x)\n",
        "\n",
        "        x = self.fc2(x)\n",
        "\n",
        "        output = F.log_softmax(x, dim=1)\n",
        "\n",
        "        return output"
      ]
    },
    {
      "cell_type": "markdown",
      "metadata": {},
      "source": [
        "2. Train Model"
      ]
    },
    {
      "cell_type": "code",
      "execution_count": null,
      "metadata": {
        "id": "I_nqg1bssZWl"
      },
      "outputs": [],
      "source": [
        "from torch.nn.utils import prune\n",
        "\n",
        "def train(model, device, train_loader, optimizer):\n",
        "    \n",
        "    for batch_index, (inputs, labels) in enumerate(train_loader):\n",
        "      model.train()\n",
        "      inputs, labels = inputs.to(device), labels.to(device)\n",
        "\n",
        "      output = model(inputs)\n",
        "      loss = F.nll_loss(output, labels)\n",
        "\n",
        "      optimizer.zero_grad()\n",
        "      loss.backward()\n",
        "      optimizer.step()\n",
        "\n",
        "      if batch_index % 100 == 0:\n",
        "        print('Training Progress: [{}/{} ({:.0f}%)]\\tLoss: {:.6f}'.format(\n",
        "            batch_index * len(inputs), len(train_loader.dataset),\n",
        "            100. * batch_index / len(train_loader), loss.item()))"
      ]
    },
    {
      "cell_type": "markdown",
      "metadata": {},
      "source": [
        "3. Reset Model Weights, Prune, then Retrain"
      ]
    },
    {
      "cell_type": "code",
      "execution_count": null,
      "metadata": {
        "id": "I3lmDFyivFk9"
      },
      "outputs": [],
      "source": [
        "def lotteryTrain(model, device, train_loader, optimizer):\n",
        "    # save initial state\n",
        "    torch.save({\"conv1.bias\": model.state_dict()[\"conv1.bias\"].detach().clone(),\n",
        "                \"conv2.bias\": model.state_dict()[\"conv2.bias\"].detach().clone(),\n",
        "                \"fc1.bias\": model.state_dict()[\"fc1.bias\"].detach().clone(),\n",
        "                \"fc2.bias\": model.state_dict()[\"fc2.bias\"].detach().clone(),\n",
        "                \n",
        "                \"conv1.weight_orig\": model.state_dict()[\"conv1.weight\"].detach().clone(),\n",
        "                \"conv2.weight_orig\": model.state_dict()[\"conv2.weight\"].detach().clone(),\n",
        "                \"fc1.weight_orig\": model.state_dict()[\"fc1.weight\"].detach().clone(),\n",
        "                \"fc2.weight_orig\": model.state_dict()[\"fc2.weight\"].detach().clone()},\n",
        "              \"./fmnist_checkpoint.pt\")\n",
        "    \n",
        "    # train model\n",
        "    train(model, device, train_loader, optimizer)\n",
        "\n",
        "    # prune half of all weights (TODO: half prune output layer?)\n",
        "    to_prune = ((model.conv1, \"weight\"), (model.conv2, \"weight\"), (model.fc1, \"weight\"))\n",
        "    output_layer = ((model.fc2, \"weight\"),)\n",
        "    prune.global_unstructured(to_prune, pruning_method=prune.L1Unstructured, amount=0.5)\n",
        "    prune.global_unstructured(output_layer, pruning_method=prune.L1Unstructured, amount=0.25)\n",
        "\n",
        "    # load original weights, restart training\n",
        "    checkpoint = torch.load(\"./fmnist_checkpoint.pt\")\n",
        "    checkpoint[\"conv1.weight_mask\"] = model.state_dict()[\"conv1.weight_mask\"].detach().clone()\n",
        "    checkpoint[\"conv2.weight_mask\"] = model.state_dict()[\"conv2.weight_mask\"].detach().clone()\n",
        "    checkpoint[\"fc1.weight_mask\"] = model.state_dict()[\"fc1.weight_mask\"].detach().clone()\n",
        "    checkpoint[\"fc2.weight_mask\"] = model.state_dict()[\"fc2.weight_mask\"].detach().clone()\n",
        "    model.load_state_dict(checkpoint)\n",
        "\n",
        "    print('weights pruned and reset, training again')\n",
        "    train(model, device, train_loader, optimizer)"
      ]
    },
    {
      "cell_type": "markdown",
      "metadata": {},
      "source": [
        "4. Build Confusion Matrix/ Collect Metrics"
      ]
    },
    {
      "cell_type": "code",
      "execution_count": null,
      "metadata": {
        "id": "9ztNWxgTsZ7L"
      },
      "outputs": [],
      "source": [
        "from sklearn.metrics import confusion_matrix, classification_report\n",
        "import seaborn as sn\n",
        "import pandas as pd\n",
        "\n",
        "y_pred = []\n",
        "y_true = []\n",
        "\n",
        "def buildConfusionMatrix(model, testloader):\n",
        "  # iterate over test data\n",
        "  for inputs, labels in testloader:\n",
        "          output = model(inputs) # Feed into Network\n",
        "\n",
        "          output = (torch.max(torch.exp(output), 1)[1]).data.cpu().numpy()\n",
        "          y_pred.extend(output) # Save Prediction\n",
        "          \n",
        "          labels = labels.data.cpu().numpy()\n",
        "          y_true.extend(labels) # Save Truth\n",
        "\n",
        "  # constant for classes\n",
        "  classes = ('T-shirt/top', 'Trouser', 'Pullover', 'Dress', 'Coat',\n",
        "          'Sandal', 'Shirt', 'Sneaker', 'Bag', 'Ankle Boot')\n",
        "\n",
        "  # Build confusion matrix\n",
        "  cf_matrix = confusion_matrix(y_true, y_pred)\n",
        "  df_cm = pd.DataFrame(cf_matrix/np.sum(cf_matrix) *10, \n",
        "                       index = [i for i in classes],\n",
        "                       columns = [i for i in classes])\n",
        "  plt.figure(figsize = (12,7))\n",
        "  sn.heatmap(df_cm, annot=True)\n",
        "  plt.title(\"Confusion Matrix - Custom Pruned Model\")\n",
        "  plt.show()\n",
        "\n",
        "  print(classification_report(y_true, y_pred, target_names=list(classes)))"
      ]
    },
    {
      "cell_type": "markdown",
      "metadata": {},
      "source": [
        "5. Main function compiling previous steps"
      ]
    },
    {
      "cell_type": "code",
      "execution_count": null,
      "metadata": {
        "colab": {
          "base_uri": "https://localhost:8080/",
          "height": 1000
        },
        "id": "bnPwq2NVsbw7",
        "outputId": "07f02827-e498-437b-9d72-6419e890283a"
      },
      "outputs": [
        {
          "name": "stdout",
          "output_type": "stream",
          "text": [
            "Training Progress: [0/60000 (0%)]\tLoss: 2.307173\n",
            "Training Progress: [6400/60000 (11%)]\tLoss: 0.440680\n",
            "Training Progress: [12800/60000 (21%)]\tLoss: 0.358171\n",
            "Training Progress: [19200/60000 (32%)]\tLoss: 0.339079\n",
            "Training Progress: [25600/60000 (43%)]\tLoss: 0.311493\n",
            "Training Progress: [32000/60000 (53%)]\tLoss: 0.406289\n",
            "Training Progress: [38400/60000 (64%)]\tLoss: 0.277556\n",
            "Training Progress: [44800/60000 (75%)]\tLoss: 0.400729\n",
            "Training Progress: [51200/60000 (85%)]\tLoss: 0.378076\n",
            "Training Progress: [57600/60000 (96%)]\tLoss: 0.250899\n",
            "weights pruned and reset, training again\n",
            "Training Progress: [0/60000 (0%)]\tLoss: 2.239125\n",
            "Training Progress: [6400/60000 (11%)]\tLoss: 0.445657\n",
            "Training Progress: [12800/60000 (21%)]\tLoss: 0.379650\n",
            "Training Progress: [19200/60000 (32%)]\tLoss: 0.327448\n",
            "Training Progress: [25600/60000 (43%)]\tLoss: 0.303706\n",
            "Training Progress: [32000/60000 (53%)]\tLoss: 0.385734\n",
            "Training Progress: [38400/60000 (64%)]\tLoss: 0.259242\n",
            "Training Progress: [44800/60000 (75%)]\tLoss: 0.397373\n",
            "Training Progress: [51200/60000 (85%)]\tLoss: 0.349864\n",
            "Training Progress: [57600/60000 (96%)]\tLoss: 0.213614\n"
          ]
        },
        {
          "data": {
            "image/png": "[encoded data removed]",
            "text/plain": [
              "<Figure size 864x504 with 2 Axes>"
            ]
          },
          "metadata": {
            "needs_background": "light"
          },
          "output_type": "display_data"
        },
        {
          "name": "stdout",
          "output_type": "stream",
          "text": [
            "              precision    recall  f1-score   support\n",
            "\n",
            " T-shirt/top       0.83      0.83      0.83      1000\n",
            "     Trouser       1.00      0.96      0.98      1000\n",
            "    Pullover       0.92      0.72      0.80      1000\n",
            "       Dress       0.88      0.93      0.90      1000\n",
            "        Coat       0.79      0.88      0.83      1000\n",
            "      Sandal       0.94      0.99      0.97      1000\n",
            "       Shirt       0.69      0.73      0.71      1000\n",
            "     Sneaker       0.93      0.95      0.94      1000\n",
            "         Bag       0.98      0.98      0.98      1000\n",
            "  Ankle Boot       0.99      0.93      0.96      1000\n",
            "\n",
            "    accuracy                           0.89     10000\n",
            "   macro avg       0.89      0.89      0.89     10000\n",
            "weighted avg       0.89      0.89      0.89     10000\n",
            "\n"
          ]
        }
      ],
      "source": [
        "def main():\n",
        "    use_cuda = torch.cuda.is_available()\n",
        "\n",
        "    torch.manual_seed(1)\n",
        "\n",
        "    device = torch.device(\"cuda\" if use_cuda else \"cpu\")\n",
        "\n",
        "    train_kwargs = {'batch_size': 64}\n",
        "    test_kwargs = {'batch_size': 1000}\n",
        "    if use_cuda:\n",
        "        cuda_kwargs = {'num_workers': 1, 'pin_memory': True, 'shuffle': True}\n",
        "        train_kwargs.update(cuda_kwargs)\n",
        "        test_kwargs.update(cuda_kwargs)\n",
        "\n",
        "    transform=transforms.Compose([\n",
        "        transforms.ToTensor(),\n",
        "        transforms.Normalize((0.1307,), (0.3081,))\n",
        "        ])\n",
        "\n",
        "    dataset1 = datasets.FashionMNIST('../data', train=True, download=True,\n",
        "                       transform=transform)\n",
        "    dataset2 = datasets.FashionMNIST('../data', train=False,\n",
        "                       transform=transform)\n",
        "\n",
        "    train_loader = torch.utils.data.DataLoader(dataset1,**train_kwargs)\n",
        "    val_loader = torch.utils.data.DataLoader(dataset2, **test_kwargs)\n",
        "\n",
        "    model = FashionModel().to(device)\n",
        "    optimizer = optim.Adadelta(model.parameters(), lr=1.0)\n",
        "\n",
        "    if use_cuda:\n",
        "      start = torch.cuda.Event(enable_timing=True)\n",
        "      end = torch.cuda.Event(enable_timing=True)\n",
        "\n",
        "      start.record()\n",
        "      lotteryTrain(model, device, train_loader, optimizer)\n",
        "      end.record()\n",
        "      torch.cuda.synchronize()\n",
        "      print(\"\\nTotal training time (1 epoch): \" \n",
        "            + str(start.elapsed_time(end)/1000) + \" seconds\")\n",
        "\n",
        "    else:\n",
        "      lotteryTrain(model, device, train_loader, optimizer)\n",
        "    \n",
        "    buildConfusionMatrix(model, val_loader)\n",
        "\n",
        "if __name__ == '__main__':\n",
        "    main()"
      ]
    }
  ],
  "metadata": {
    "accelerator": "GPU",
    "colab": {
      "authorship_tag": "ABX9TyMRz1qvQd1S9Cfzzlt3271r",
      "collapsed_sections": [],
      "include_colab_link": true,
      "name": "mpgeary-MLFinalProj-FMNIST-LotteryTicket.ipynb",
      "provenance": []
    },
    "kernelspec": {
      "display_name": "Python 3",
      "name": "python3"
    },
    "language_info": {
      "name": "python"
    }
  },
  "nbformat": 4,
  "nbformat_minor": 0
}
