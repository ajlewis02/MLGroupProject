{
  "nbformat": 4,
  "nbformat_minor": 0,
  "metadata": {
    "colab": {
      "name": "CustomCNN-pruning.ipynb",
      "provenance": [],
      "collapsed_sections": []
    },
    "kernelspec": {
      "name": "python3",
      "display_name": "Python 3"
    },
    "language_info": {
      "name": "python"
    },
    "widgets": {
      "application/vnd.jupyter.widget-state+json": {
        "673c0c1e054443cfbfaddebd421d2b9d": {
          "model_module": "@jupyter-widgets/controls",
          "model_name": "HBoxModel",
          "model_module_version": "1.5.0",
          "state": {
            "_view_name": "HBoxView",
            "_dom_classes": [],
            "_model_name": "HBoxModel",
            "_view_module": "@jupyter-widgets/controls",
            "_model_module_version": "1.5.0",
            "_view_count": null,
            "_view_module_version": "1.5.0",
            "box_style": "",
            "layout": "IPY_MODEL_ba39f41c514842ccab9f44a64a5dd10b",
            "_model_module": "@jupyter-widgets/controls",
            "children": [
              "IPY_MODEL_e71811f2bdff41b8b5554ed6415911d9",
              "IPY_MODEL_f74d14d701bc4be2adc7a436bac2ffc7",
              "IPY_MODEL_b5243be6afe9442b9094401091337092"
            ]
          }
        },
        "ba39f41c514842ccab9f44a64a5dd10b": {
          "model_module": "@jupyter-widgets/base",
          "model_name": "LayoutModel",
          "model_module_version": "1.2.0",
          "state": {
            "_view_name": "LayoutView",
            "grid_template_rows": null,
            "right": null,
            "justify_content": null,
            "_view_module": "@jupyter-widgets/base",
            "overflow": null,
            "_model_module_version": "1.2.0",
            "_view_count": null,
            "flex_flow": null,
            "width": null,
            "min_width": null,
            "border": null,
            "align_items": null,
            "bottom": null,
            "_model_module": "@jupyter-widgets/base",
            "top": null,
            "grid_column": null,
            "overflow_y": null,
            "overflow_x": null,
            "grid_auto_flow": null,
            "grid_area": null,
            "grid_template_columns": null,
            "flex": null,
            "_model_name": "LayoutModel",
            "justify_items": null,
            "grid_row": null,
            "max_height": null,
            "align_content": null,
            "visibility": null,
            "align_self": null,
            "height": null,
            "min_height": null,
            "padding": null,
            "grid_auto_rows": null,
            "grid_gap": null,
            "max_width": null,
            "order": null,
            "_view_module_version": "1.2.0",
            "grid_template_areas": null,
            "object_position": null,
            "object_fit": null,
            "grid_auto_columns": null,
            "margin": null,
            "display": null,
            "left": null
          }
        },
        "e71811f2bdff41b8b5554ed6415911d9": {
          "model_module": "@jupyter-widgets/controls",
          "model_name": "HTMLModel",
          "model_module_version": "1.5.0",
          "state": {
            "_view_name": "HTMLView",
            "style": "IPY_MODEL_b7bd7e11cc9a4c529364e6d54ad73010",
            "_dom_classes": [],
            "description": "",
            "_model_name": "HTMLModel",
            "placeholder": "​",
            "_view_module": "@jupyter-widgets/controls",
            "_model_module_version": "1.5.0",
            "value": "",
            "_view_count": null,
            "_view_module_version": "1.5.0",
            "description_tooltip": null,
            "_model_module": "@jupyter-widgets/controls",
            "layout": "IPY_MODEL_32cca5a63f72499b9a8a3910659a5066"
          }
        },
        "f74d14d701bc4be2adc7a436bac2ffc7": {
          "model_module": "@jupyter-widgets/controls",
          "model_name": "FloatProgressModel",
          "model_module_version": "1.5.0",
          "state": {
            "_view_name": "ProgressView",
            "style": "IPY_MODEL_a1f7a6a00db648b1ab0f5cbf459ea745",
            "_dom_classes": [],
            "description": "",
            "_model_name": "FloatProgressModel",
            "bar_style": "success",
            "max": 170498071,
            "_view_module": "@jupyter-widgets/controls",
            "_model_module_version": "1.5.0",
            "value": 170498071,
            "_view_count": null,
            "_view_module_version": "1.5.0",
            "orientation": "horizontal",
            "min": 0,
            "description_tooltip": null,
            "_model_module": "@jupyter-widgets/controls",
            "layout": "IPY_MODEL_5dd87889d23a462c9ed2946fbaa947f3"
          }
        },
        "b5243be6afe9442b9094401091337092": {
          "model_module": "@jupyter-widgets/controls",
          "model_name": "HTMLModel",
          "model_module_version": "1.5.0",
          "state": {
            "_view_name": "HTMLView",
            "style": "IPY_MODEL_636400f64c4f488580f237400da07a7e",
            "_dom_classes": [],
            "description": "",
            "_model_name": "HTMLModel",
            "placeholder": "​",
            "_view_module": "@jupyter-widgets/controls",
            "_model_module_version": "1.5.0",
            "value": " 170499072/? [00:03&lt;00:00, 54546291.31it/s]",
            "_view_count": null,
            "_view_module_version": "1.5.0",
            "description_tooltip": null,
            "_model_module": "@jupyter-widgets/controls",
            "layout": "IPY_MODEL_7a183719ed3a48139f4b3149355b01cd"
          }
        },
        "b7bd7e11cc9a4c529364e6d54ad73010": {
          "model_module": "@jupyter-widgets/controls",
          "model_name": "DescriptionStyleModel",
          "model_module_version": "1.5.0",
          "state": {
            "_view_name": "StyleView",
            "_model_name": "DescriptionStyleModel",
            "description_width": "",
            "_view_module": "@jupyter-widgets/base",
            "_model_module_version": "1.5.0",
            "_view_count": null,
            "_view_module_version": "1.2.0",
            "_model_module": "@jupyter-widgets/controls"
          }
        },
        "32cca5a63f72499b9a8a3910659a5066": {
          "model_module": "@jupyter-widgets/base",
          "model_name": "LayoutModel",
          "model_module_version": "1.2.0",
          "state": {
            "_view_name": "LayoutView",
            "grid_template_rows": null,
            "right": null,
            "justify_content": null,
            "_view_module": "@jupyter-widgets/base",
            "overflow": null,
            "_model_module_version": "1.2.0",
            "_view_count": null,
            "flex_flow": null,
            "width": null,
            "min_width": null,
            "border": null,
            "align_items": null,
            "bottom": null,
            "_model_module": "@jupyter-widgets/base",
            "top": null,
            "grid_column": null,
            "overflow_y": null,
            "overflow_x": null,
            "grid_auto_flow": null,
            "grid_area": null,
            "grid_template_columns": null,
            "flex": null,
            "_model_name": "LayoutModel",
            "justify_items": null,
            "grid_row": null,
            "max_height": null,
            "align_content": null,
            "visibility": null,
            "align_self": null,
            "height": null,
            "min_height": null,
            "padding": null,
            "grid_auto_rows": null,
            "grid_gap": null,
            "max_width": null,
            "order": null,
            "_view_module_version": "1.2.0",
            "grid_template_areas": null,
            "object_position": null,
            "object_fit": null,
            "grid_auto_columns": null,
            "margin": null,
            "display": null,
            "left": null
          }
        },
        "a1f7a6a00db648b1ab0f5cbf459ea745": {
          "model_module": "@jupyter-widgets/controls",
          "model_name": "ProgressStyleModel",
          "model_module_version": "1.5.0",
          "state": {
            "_view_name": "StyleView",
            "_model_name": "ProgressStyleModel",
            "description_width": "",
            "_view_module": "@jupyter-widgets/base",
            "_model_module_version": "1.5.0",
            "_view_count": null,
            "_view_module_version": "1.2.0",
            "bar_color": null,
            "_model_module": "@jupyter-widgets/controls"
          }
        },
        "5dd87889d23a462c9ed2946fbaa947f3": {
          "model_module": "@jupyter-widgets/base",
          "model_name": "LayoutModel",
          "model_module_version": "1.2.0",
          "state": {
            "_view_name": "LayoutView",
            "grid_template_rows": null,
            "right": null,
            "justify_content": null,
            "_view_module": "@jupyter-widgets/base",
            "overflow": null,
            "_model_module_version": "1.2.0",
            "_view_count": null,
            "flex_flow": null,
            "width": null,
            "min_width": null,
            "border": null,
            "align_items": null,
            "bottom": null,
            "_model_module": "@jupyter-widgets/base",
            "top": null,
            "grid_column": null,
            "overflow_y": null,
            "overflow_x": null,
            "grid_auto_flow": null,
            "grid_area": null,
            "grid_template_columns": null,
            "flex": null,
            "_model_name": "LayoutModel",
            "justify_items": null,
            "grid_row": null,
            "max_height": null,
            "align_content": null,
            "visibility": null,
            "align_self": null,
            "height": null,
            "min_height": null,
            "padding": null,
            "grid_auto_rows": null,
            "grid_gap": null,
            "max_width": null,
            "order": null,
            "_view_module_version": "1.2.0",
            "grid_template_areas": null,
            "object_position": null,
            "object_fit": null,
            "grid_auto_columns": null,
            "margin": null,
            "display": null,
            "left": null
          }
        },
        "636400f64c4f488580f237400da07a7e": {
          "model_module": "@jupyter-widgets/controls",
          "model_name": "DescriptionStyleModel",
          "model_module_version": "1.5.0",
          "state": {
            "_view_name": "StyleView",
            "_model_name": "DescriptionStyleModel",
            "description_width": "",
            "_view_module": "@jupyter-widgets/base",
            "_model_module_version": "1.5.0",
            "_view_count": null,
            "_view_module_version": "1.2.0",
            "_model_module": "@jupyter-widgets/controls"
          }
        },
        "7a183719ed3a48139f4b3149355b01cd": {
          "model_module": "@jupyter-widgets/base",
          "model_name": "LayoutModel",
          "model_module_version": "1.2.0",
          "state": {
            "_view_name": "LayoutView",
            "grid_template_rows": null,
            "right": null,
            "justify_content": null,
            "_view_module": "@jupyter-widgets/base",
            "overflow": null,
            "_model_module_version": "1.2.0",
            "_view_count": null,
            "flex_flow": null,
            "width": null,
            "min_width": null,
            "border": null,
            "align_items": null,
            "bottom": null,
            "_model_module": "@jupyter-widgets/base",
            "top": null,
            "grid_column": null,
            "overflow_y": null,
            "overflow_x": null,
            "grid_auto_flow": null,
            "grid_area": null,
            "grid_template_columns": null,
            "flex": null,
            "_model_name": "LayoutModel",
            "justify_items": null,
            "grid_row": null,
            "max_height": null,
            "align_content": null,
            "visibility": null,
            "align_self": null,
            "height": null,
            "min_height": null,
            "padding": null,
            "grid_auto_rows": null,
            "grid_gap": null,
            "max_width": null,
            "order": null,
            "_view_module_version": "1.2.0",
            "grid_template_areas": null,
            "object_position": null,
            "object_fit": null,
            "grid_auto_columns": null,
            "margin": null,
            "display": null,
            "left": null
          }
        }
      }
    }
  },
  "cells": [
    {
      "cell_type": "code",
      "execution_count": null,
      "metadata": {
        "id": "eCqBjf5b6c5h"
      },
      "outputs": [],
      "source": [
        "import torch\n",
        "import torchvision\n",
        "import torchvision.transforms as transforms\n",
        "device = torch.device('cuda' if torch.cuda.is_available() else 'cpu')"
      ]
    },
    {
      "cell_type": "code",
      "source": [
        "print(device)"
      ],
      "metadata": {
        "colab": {
          "base_uri": "https://localhost:8080/"
        },
        "id": "fbxV9_OS6j1f",
        "outputId": "3ab1fee2-74a6-44a9-94f1-d1671fc1a035"
      },
      "execution_count": null,
      "outputs": [
        {
          "output_type": "stream",
          "name": "stdout",
          "text": [
            "cuda\n"
          ]
        }
      ]
    },
    {
      "cell_type": "code",
      "source": [
        "#Converting PIL image to pytoech Tensor\n",
        "\n",
        "transform = transforms.Compose(\n",
        "    [transforms.ToTensor(),\n",
        "     transforms.Normalize((0.5, 0.5, 0.5), (0.5, 0.5, 0.5))])"
      ],
      "metadata": {
        "id": "xn1L-SYX6pV_"
      },
      "execution_count": null,
      "outputs": []
    },
    {
      "cell_type": "code",
      "source": [
        "batch_size = 4\n",
        "# Loading training data set\n",
        "trainset = torchvision.datasets.CIFAR10(root='./data', train=True,\n",
        "                                        download=True, transform=transform)\n",
        "trainloader = torch.utils.data.DataLoader(trainset, batch_size=batch_size,\n",
        "                                          shuffle=True, num_workers=2)\n",
        "# Loading testing data set\n",
        "testset = torchvision.datasets.CIFAR10(root='./data', train=False,\n",
        "                                       download=True, transform=transform)\n",
        "testloader = torch.utils.data.DataLoader(testset, batch_size=batch_size,\n",
        "                                         shuffle=False, num_workers=2)\n",
        "classes = ('plane', 'car', 'bird', 'cat',\n",
        "           'deer', 'dog', 'frog', 'horse', 'ship', 'truck')"
      ],
      "metadata": {
        "colab": {
          "base_uri": "https://localhost:8080/",
          "height": 101,
          "referenced_widgets": [
            "673c0c1e054443cfbfaddebd421d2b9d",
            "ba39f41c514842ccab9f44a64a5dd10b",
            "e71811f2bdff41b8b5554ed6415911d9",
            "f74d14d701bc4be2adc7a436bac2ffc7",
            "b5243be6afe9442b9094401091337092",
            "b7bd7e11cc9a4c529364e6d54ad73010",
            "32cca5a63f72499b9a8a3910659a5066",
            "a1f7a6a00db648b1ab0f5cbf459ea745",
            "5dd87889d23a462c9ed2946fbaa947f3",
            "636400f64c4f488580f237400da07a7e",
            "7a183719ed3a48139f4b3149355b01cd"
          ]
        },
        "id": "B3pCl1Gd6rZF",
        "outputId": "0224862c-18df-4710-ebcc-a571194918a7"
      },
      "execution_count": null,
      "outputs": [
        {
          "output_type": "stream",
          "name": "stdout",
          "text": [
            "Downloading https://www.cs.toronto.edu/~kriz/cifar-10-python.tar.gz to ./data/cifar-10-python.tar.gz\n"
          ]
        },
        {
          "output_type": "display_data",
          "data": {
            "application/vnd.jupyter.widget-view+json": {
              "model_id": "673c0c1e054443cfbfaddebd421d2b9d",
              "version_minor": 0,
              "version_major": 2
            },
            "text/plain": [
              "  0%|          | 0/170498071 [00:00<?, ?it/s]"
            ]
          },
          "metadata": {}
        },
        {
          "output_type": "stream",
          "name": "stdout",
          "text": [
            "Extracting ./data/cifar-10-python.tar.gz to ./data\n",
            "Files already downloaded and verified\n"
          ]
        }
      ]
    },
    {
      "cell_type": "code",
      "source": [
        "# Visualizing image data\n",
        "\n",
        "import matplotlib.pyplot as plt\n",
        "import numpy as np\n",
        "\n",
        "def imshow(img):\n",
        "    img = img / 2 + 0.5     # unnormalize\n",
        "    npimg = img.numpy()\n",
        "    plt.imshow(np.transpose(npimg, (1, 2, 0)))\n",
        "    plt.show()\n",
        "\n",
        "dataiter = iter(trainloader)\n",
        "images, labels = dataiter.next()\n",
        "print(images.size())\n",
        "imshow(torchvision.utils.make_grid(images))\n",
        "print(' '.join('%5s' % classes[labels[j]] for j in range(batch_size)))"
      ],
      "metadata": {
        "colab": {
          "base_uri": "https://localhost:8080/",
          "height": 173
        },
        "id": "Q3tUzXQA6xnU",
        "outputId": "33b27693-5464-4af8-d32e-ff3d1178382a"
      },
      "execution_count": null,
      "outputs": [
        {
          "output_type": "stream",
          "name": "stdout",
          "text": [
            "torch.Size([4, 3, 32, 32])\n"
          ]
        },
        {
          "output_type": "display_data",
          "data": {
            "image/png": "[encoded data removed]",
            "text/plain": [
              "<Figure size 432x288 with 1 Axes>"
            ]
          },
          "metadata": {
            "needs_background": "light"
          }
        },
        {
          "output_type": "stream",
          "name": "stdout",
          "text": [
            "  car   car plane   dog\n"
          ]
        }
      ]
    },
    {
      "cell_type": "code",
      "source": [
        "# Defining NN model\n",
        "import torch.nn as nn\n",
        "import torch.nn.functional as F\n",
        "\n",
        "class Net(nn.Module):\n",
        "  def __init__(self):\n",
        "    super().__init__()\n",
        "    self.conv1 = nn.Conv2d(3,64,3)\n",
        "    self.conv2 = nn.Conv2d(64,64,3)\n",
        "    self.pool = nn.MaxPool2d(2,2)\n",
        "    self.conv3 = nn.Conv2d(64,128,3)\n",
        "    self.fc1 = nn.Linear(128*6*6, 256)\n",
        "    self.fc2 = nn.Linear(256, 10)\n",
        "    # self.fc3 = nn.Linear(256,10)\n",
        "  \n",
        "  def forward(self,x):\n",
        "    x = F.relu(self.conv1(x))\n",
        "    x = self.pool(F.relu(self.conv2(x)))\n",
        "    x = self.pool(F.relu(self.conv3(x)))\n",
        "    x = torch.flatten(x,1)\n",
        "    x = F.relu(self.fc1(x))\n",
        "    x = F.softmax(self.fc2(x), dim=1)\n",
        "    # x = F.softmax(self.fc3(x), dim=1)\n",
        "    return x\n",
        "\n",
        "net = Net()\n",
        "net.to(device)"
      ],
      "metadata": {
        "colab": {
          "base_uri": "https://localhost:8080/"
        },
        "id": "0d8abKF-62Q4",
        "outputId": "8f90aaff-a899-4233-8abe-f3d20b81be31"
      },
      "execution_count": null,
      "outputs": [
        {
          "output_type": "execute_result",
          "data": {
            "text/plain": [
              "Net(\n",
              "  (conv1): Conv2d(3, 64, kernel_size=(3, 3), stride=(1, 1))\n",
              "  (conv2): Conv2d(64, 64, kernel_size=(3, 3), stride=(1, 1))\n",
              "  (pool): MaxPool2d(kernel_size=2, stride=2, padding=0, dilation=1, ceil_mode=False)\n",
              "  (conv3): Conv2d(64, 128, kernel_size=(3, 3), stride=(1, 1))\n",
              "  (fc1): Linear(in_features=4608, out_features=256, bias=True)\n",
              "  (fc2): Linear(in_features=256, out_features=10, bias=True)\n",
              ")"
            ]
          },
          "metadata": {},
          "execution_count": 6
        }
      ]
    },
    {
      "cell_type": "code",
      "source": [
        "import torch.optim as optim\n",
        "import torch.nn.utils.prune as prune\n",
        "import random as r\n",
        "\n",
        "start = 10\n",
        "end = 50\n",
        "n_pruning = 5\n",
        "r.seed(1)\n",
        "pruning_epochs = r.sample((range(10,end)), n_pruning)\n",
        "\n",
        "criterion = nn.CrossEntropyLoss()\n",
        "optimizer = optim.Adam(net.parameters(), lr=1e-4)"
      ],
      "metadata": {
        "id": "guvzou1Q64zG"
      },
      "execution_count": null,
      "outputs": []
    },
    {
      "cell_type": "code",
      "source": [
        "def prune_model(model):\n",
        "  for name, module in model.named_modules():\n",
        "    # prune 20% of connections in all 2D-conv layers\n",
        "    if isinstance(module, torch.nn.Conv2d):\n",
        "        prune.l1_unstructured(module, name='weight', amount=0.2)\n",
        "    # prune 40% of connections in all linear layers\n",
        "    elif isinstance(module, torch.nn.Linear):\n",
        "        prune.l1_unstructured(module, name='weight', amount=0.4)\n",
        "\n",
        "print(pruning_epochs)"
      ],
      "metadata": {
        "colab": {
          "base_uri": "https://localhost:8080/"
        },
        "id": "9QU6KGE57AdP",
        "outputId": "c10073f9-475c-45d5-effc-fdf96c76d85d"
      },
      "execution_count": null,
      "outputs": [
        {
          "output_type": "stream",
          "name": "stdout",
          "text": [
            "[18, 46, 14, 26, 17]\n"
          ]
        }
      ]
    },
    {
      "cell_type": "code",
      "source": [
        "loss_history = []\n",
        "for epoch in range(end+1):  # loop over the dataset multiple times\n",
        "    running_loss = 0.0\n",
        "    if epoch%10 == 0:\n",
        "      PATH = './cifar_net-custom.pth'\n",
        "      torch.save(net.state_dict(), PATH)\n",
        "    # if epoch in pruning_epochs:\n",
        "    #   prune_model(net)\n",
        "    #   print(\"pruning....\")\n",
        "    for i, data in enumerate(trainloader, 0):\n",
        "        # get the inputs; data is a list of [inputs, labels]\n",
        "        inputs, labels = data[0].to(device), data[1].to(device)\n",
        "        # zero the parameter gradients\n",
        "        optimizer.zero_grad()\n",
        "\n",
        "        # forward + backward + optimize\n",
        "        outputs = net(inputs)\n",
        "        loss = criterion(outputs, labels)\n",
        "        loss.backward()\n",
        "        optimizer.step()\n",
        "\n",
        "        # print statistics\n",
        "        running_loss += loss.item()\n",
        "        if i % 2000 == 1999:    # print every 2000 mini-batches\n",
        "            print('[%d, %5d] loss: %.3f' %\n",
        "                  (epoch + 1, i + 1, running_loss / 2000))\n",
        "            loss_history.append(running_loss)\n",
        "            running_loss = 0.0\n",
        "print(dict(net.named_buffers()).keys())\n",
        "print('Finished Training')"
      ],
      "metadata": {
        "colab": {
          "base_uri": "https://localhost:8080/"
        },
        "id": "ls0zoDSE7Cew",
        "outputId": "e34a3b94-de01-4620-f92c-5d0c0501fced"
      },
      "execution_count": null,
      "outputs": [
        {
          "output_type": "stream",
          "name": "stdout",
          "text": [
            "[1,  2000] loss: 2.162\n",
            "[1,  4000] loss: 2.088\n",
            "[1,  6000] loss: 2.054\n",
            "[1,  8000] loss: 2.032\n",
            "[1, 10000] loss: 2.011\n",
            "[1, 12000] loss: 1.995\n",
            "[2,  2000] loss: 1.968\n",
            "[2,  4000] loss: 1.956\n",
            "[2,  6000] loss: 1.949\n",
            "[2,  8000] loss: 1.944\n",
            "[2, 10000] loss: 1.931\n",
            "[2, 12000] loss: 1.916\n",
            "[3,  2000] loss: 1.898\n",
            "[3,  4000] loss: 1.892\n",
            "[3,  6000] loss: 1.887\n",
            "[3,  8000] loss: 1.882\n",
            "[3, 10000] loss: 1.877\n",
            "[3, 12000] loss: 1.869\n",
            "[4,  2000] loss: 1.843\n",
            "[4,  4000] loss: 1.846\n",
            "[4,  6000] loss: 1.834\n",
            "[4,  8000] loss: 1.829\n",
            "[4, 10000] loss: 1.823\n",
            "[4, 12000] loss: 1.818\n",
            "[5,  2000] loss: 1.805\n",
            "[5,  4000] loss: 1.796\n",
            "[5,  6000] loss: 1.791\n",
            "[5,  8000] loss: 1.788\n",
            "[5, 10000] loss: 1.782\n",
            "[5, 12000] loss: 1.791\n",
            "[6,  2000] loss: 1.767\n",
            "[6,  4000] loss: 1.770\n",
            "[6,  6000] loss: 1.759\n",
            "[6,  8000] loss: 1.760\n",
            "[6, 10000] loss: 1.746\n",
            "[6, 12000] loss: 1.755\n",
            "[7,  2000] loss: 1.729\n",
            "[7,  4000] loss: 1.726\n",
            "[7,  6000] loss: 1.730\n",
            "[7,  8000] loss: 1.737\n",
            "[7, 10000] loss: 1.734\n",
            "[7, 12000] loss: 1.741\n",
            "[8,  2000] loss: 1.709\n",
            "[8,  4000] loss: 1.705\n",
            "[8,  6000] loss: 1.705\n",
            "[8,  8000] loss: 1.717\n",
            "[8, 10000] loss: 1.713\n",
            "[8, 12000] loss: 1.711\n",
            "[9,  2000] loss: 1.681\n",
            "[9,  4000] loss: 1.687\n",
            "[9,  6000] loss: 1.692\n",
            "[9,  8000] loss: 1.688\n",
            "[9, 10000] loss: 1.693\n",
            "[9, 12000] loss: 1.692\n",
            "[10,  2000] loss: 1.662\n",
            "[10,  4000] loss: 1.675\n",
            "[10,  6000] loss: 1.672\n",
            "[10,  8000] loss: 1.670\n",
            "[10, 10000] loss: 1.678\n",
            "[10, 12000] loss: 1.671\n",
            "[11,  2000] loss: 1.648\n",
            "[11,  4000] loss: 1.648\n",
            "[11,  6000] loss: 1.660\n",
            "[11,  8000] loss: 1.663\n",
            "[11, 10000] loss: 1.662\n",
            "[11, 12000] loss: 1.657\n",
            "[12,  2000] loss: 1.637\n",
            "[12,  4000] loss: 1.633\n",
            "[12,  6000] loss: 1.651\n",
            "[12,  8000] loss: 1.636\n",
            "[12, 10000] loss: 1.644\n",
            "[12, 12000] loss: 1.641\n",
            "[13,  2000] loss: 1.625\n",
            "[13,  4000] loss: 1.623\n",
            "[13,  6000] loss: 1.626\n",
            "[13,  8000] loss: 1.630\n",
            "[13, 10000] loss: 1.633\n",
            "[13, 12000] loss: 1.634\n",
            "[14,  2000] loss: 1.611\n",
            "[14,  4000] loss: 1.613\n",
            "[14,  6000] loss: 1.618\n",
            "[14,  8000] loss: 1.622\n",
            "[14, 10000] loss: 1.616\n",
            "[14, 12000] loss: 1.627\n",
            "[15,  2000] loss: 1.608\n",
            "[15,  4000] loss: 1.599\n",
            "[15,  6000] loss: 1.609\n",
            "[15,  8000] loss: 1.609\n",
            "[15, 10000] loss: 1.609\n",
            "[15, 12000] loss: 1.610\n",
            "[16,  2000] loss: 1.595\n",
            "[16,  4000] loss: 1.600\n",
            "[16,  6000] loss: 1.601\n",
            "[16,  8000] loss: 1.597\n",
            "[16, 10000] loss: 1.603\n",
            "[16, 12000] loss: 1.599\n",
            "[17,  2000] loss: 1.590\n",
            "[17,  4000] loss: 1.589\n",
            "[17,  6000] loss: 1.591\n",
            "[17,  8000] loss: 1.590\n",
            "[17, 10000] loss: 1.595\n",
            "[17, 12000] loss: 1.593\n",
            "[18,  2000] loss: 1.583\n",
            "[18,  4000] loss: 1.582\n",
            "[18,  6000] loss: 1.590\n",
            "[18,  8000] loss: 1.587\n",
            "[18, 10000] loss: 1.591\n",
            "[18, 12000] loss: 1.584\n",
            "[19,  2000] loss: 1.576\n",
            "[19,  4000] loss: 1.573\n",
            "[19,  6000] loss: 1.580\n",
            "[19,  8000] loss: 1.582\n",
            "[19, 10000] loss: 1.578\n",
            "[19, 12000] loss: 1.584\n",
            "[20,  2000] loss: 1.575\n",
            "[20,  4000] loss: 1.571\n",
            "[20,  6000] loss: 1.577\n",
            "[20,  8000] loss: 1.576\n",
            "[20, 10000] loss: 1.575\n",
            "[20, 12000] loss: 1.576\n",
            "[21,  2000] loss: 1.571\n",
            "[21,  4000] loss: 1.566\n",
            "[21,  6000] loss: 1.568\n",
            "[21,  8000] loss: 1.576\n",
            "[21, 10000] loss: 1.572\n",
            "[21, 12000] loss: 1.571\n",
            "[22,  2000] loss: 1.569\n",
            "[22,  4000] loss: 1.562\n",
            "[22,  6000] loss: 1.569\n",
            "[22,  8000] loss: 1.563\n",
            "[22, 10000] loss: 1.569\n",
            "[22, 12000] loss: 1.572\n",
            "[23,  2000] loss: 1.565\n",
            "[23,  4000] loss: 1.562\n",
            "[23,  6000] loss: 1.567\n",
            "[23,  8000] loss: 1.562\n",
            "[23, 10000] loss: 1.569\n",
            "[23, 12000] loss: 1.562\n",
            "[24,  2000] loss: 1.557\n",
            "[24,  4000] loss: 1.558\n",
            "[24,  6000] loss: 1.557\n",
            "[24,  8000] loss: 1.562\n",
            "[24, 10000] loss: 1.560\n",
            "[24, 12000] loss: 1.567\n",
            "[25,  2000] loss: 1.557\n",
            "[25,  4000] loss: 1.560\n",
            "[25,  6000] loss: 1.553\n",
            "[25,  8000] loss: 1.559\n",
            "[25, 10000] loss: 1.559\n",
            "[25, 12000] loss: 1.562\n",
            "[26,  2000] loss: 1.553\n",
            "[26,  4000] loss: 1.560\n",
            "[26,  6000] loss: 1.555\n",
            "[26,  8000] loss: 1.556\n",
            "[26, 10000] loss: 1.557\n",
            "[26, 12000] loss: 1.560\n",
            "[27,  2000] loss: 1.551\n",
            "[27,  4000] loss: 1.551\n",
            "[27,  6000] loss: 1.557\n",
            "[27,  8000] loss: 1.552\n",
            "[27, 10000] loss: 1.554\n",
            "[27, 12000] loss: 1.558\n",
            "[28,  2000] loss: 1.551\n",
            "[28,  4000] loss: 1.551\n",
            "[28,  6000] loss: 1.554\n",
            "[28,  8000] loss: 1.551\n",
            "[28, 10000] loss: 1.555\n",
            "[28, 12000] loss: 1.549\n",
            "[29,  2000] loss: 1.547\n",
            "[29,  4000] loss: 1.546\n",
            "[29,  6000] loss: 1.555\n",
            "[29,  8000] loss: 1.551\n",
            "[29, 10000] loss: 1.552\n",
            "[29, 12000] loss: 1.546\n",
            "[30,  2000] loss: 1.547\n",
            "[30,  4000] loss: 1.549\n",
            "[30,  6000] loss: 1.550\n",
            "[30,  8000] loss: 1.544\n",
            "[30, 10000] loss: 1.548\n",
            "[30, 12000] loss: 1.555\n",
            "[31,  2000] loss: 1.548\n",
            "[31,  4000] loss: 1.546\n",
            "[31,  6000] loss: 1.548\n",
            "[31,  8000] loss: 1.547\n",
            "[31, 10000] loss: 1.545\n",
            "[31, 12000] loss: 1.547\n",
            "[32,  2000] loss: 1.548\n",
            "[32,  4000] loss: 1.540\n",
            "[32,  6000] loss: 1.548\n",
            "[32,  8000] loss: 1.545\n",
            "[32, 10000] loss: 1.543\n",
            "[32, 12000] loss: 1.552\n",
            "[33,  2000] loss: 1.547\n",
            "[33,  4000] loss: 1.544\n",
            "[33,  6000] loss: 1.542\n",
            "[33,  8000] loss: 1.545\n",
            "[33, 10000] loss: 1.548\n",
            "[33, 12000] loss: 1.545\n",
            "[34,  2000] loss: 1.543\n",
            "[34,  4000] loss: 1.542\n",
            "[34,  6000] loss: 1.541\n",
            "[34,  8000] loss: 1.548\n",
            "[34, 10000] loss: 1.552\n",
            "[34, 12000] loss: 1.541\n",
            "[35,  2000] loss: 1.537\n",
            "[35,  4000] loss: 1.543\n",
            "[35,  6000] loss: 1.538\n",
            "[35,  8000] loss: 1.546\n",
            "[35, 10000] loss: 1.544\n",
            "[35, 12000] loss: 1.544\n",
            "[36,  2000] loss: 1.540\n",
            "[36,  4000] loss: 1.540\n",
            "[36,  6000] loss: 1.545\n",
            "[36,  8000] loss: 1.545\n",
            "[36, 10000] loss: 1.545\n",
            "[36, 12000] loss: 1.536\n",
            "[37,  2000] loss: 1.539\n",
            "[37,  4000] loss: 1.548\n",
            "[37,  6000] loss: 1.535\n",
            "[37,  8000] loss: 1.543\n",
            "[37, 10000] loss: 1.544\n",
            "[37, 12000] loss: 1.540\n",
            "[38,  2000] loss: 1.541\n",
            "[38,  4000] loss: 1.533\n",
            "[38,  6000] loss: 1.543\n",
            "[38,  8000] loss: 1.538\n",
            "[38, 10000] loss: 1.546\n",
            "[38, 12000] loss: 1.539\n",
            "[39,  2000] loss: 1.538\n",
            "[39,  4000] loss: 1.536\n",
            "[39,  6000] loss: 1.539\n",
            "[39,  8000] loss: 1.536\n",
            "[39, 10000] loss: 1.542\n",
            "[39, 12000] loss: 1.541\n",
            "[40,  2000] loss: 1.537\n",
            "[40,  4000] loss: 1.533\n",
            "[40,  6000] loss: 1.545\n",
            "[40,  8000] loss: 1.533\n",
            "[40, 10000] loss: 1.541\n",
            "[40, 12000] loss: 1.543\n",
            "[41,  2000] loss: 1.539\n",
            "[41,  4000] loss: 1.540\n",
            "[41,  6000] loss: 1.541\n",
            "[41,  8000] loss: 1.536\n",
            "[41, 10000] loss: 1.537\n",
            "[41, 12000] loss: 1.533\n",
            "[42,  2000] loss: 1.538\n",
            "[42,  4000] loss: 1.532\n",
            "[42,  6000] loss: 1.537\n",
            "[42,  8000] loss: 1.539\n",
            "[42, 10000] loss: 1.538\n",
            "[42, 12000] loss: 1.538\n",
            "[43,  2000] loss: 1.537\n",
            "[43,  4000] loss: 1.530\n",
            "[43,  6000] loss: 1.532\n",
            "[43,  8000] loss: 1.539\n",
            "[43, 10000] loss: 1.542\n",
            "[43, 12000] loss: 1.544\n",
            "[44,  2000] loss: 1.532\n",
            "[44,  4000] loss: 1.537\n",
            "[44,  6000] loss: 1.539\n",
            "[44,  8000] loss: 1.534\n",
            "[44, 10000] loss: 1.536\n",
            "[44, 12000] loss: 1.534\n",
            "[45,  2000] loss: 1.534\n",
            "[45,  4000] loss: 1.534\n",
            "[45,  6000] loss: 1.536\n",
            "[45,  8000] loss: 1.532\n",
            "[45, 10000] loss: 1.538\n",
            "[45, 12000] loss: 1.535\n",
            "[46,  2000] loss: 1.532\n",
            "[46,  4000] loss: 1.532\n",
            "[46,  6000] loss: 1.531\n",
            "[46,  8000] loss: 1.530\n",
            "[46, 10000] loss: 1.541\n",
            "[46, 12000] loss: 1.536\n",
            "[47,  2000] loss: 1.532\n",
            "[47,  4000] loss: 1.532\n",
            "[47,  6000] loss: 1.534\n",
            "[47,  8000] loss: 1.536\n",
            "[47, 10000] loss: 1.532\n",
            "[47, 12000] loss: 1.535\n",
            "[48,  2000] loss: 1.533\n",
            "[48,  4000] loss: 1.533\n",
            "[48,  6000] loss: 1.533\n",
            "[48,  8000] loss: 1.536\n",
            "[48, 10000] loss: 1.537\n",
            "[48, 12000] loss: 1.535\n",
            "[49,  2000] loss: 1.530\n",
            "[49,  4000] loss: 1.536\n",
            "[49,  6000] loss: 1.535\n",
            "[49,  8000] loss: 1.539\n",
            "[49, 10000] loss: 1.535\n",
            "[49, 12000] loss: 1.531\n",
            "[50,  2000] loss: 1.530\n",
            "[50,  4000] loss: 1.534\n",
            "[50,  6000] loss: 1.533\n",
            "[50,  8000] loss: 1.530\n",
            "[50, 10000] loss: 1.529\n",
            "[50, 12000] loss: 1.534\n",
            "[51,  2000] loss: 1.533\n",
            "[51,  4000] loss: 1.530\n",
            "[51,  6000] loss: 1.538\n",
            "[51,  8000] loss: 1.529\n",
            "[51, 10000] loss: 1.530\n",
            "[51, 12000] loss: 1.530\n",
            "dict_keys([])\n",
            "Finished Training\n"
          ]
        }
      ]
    },
    {
      "cell_type": "code",
      "source": [
        "print(loss_history)"
      ],
      "metadata": {
        "colab": {
          "base_uri": "https://localhost:8080/"
        },
        "id": "Z6qB_KOJ-GOC",
        "outputId": "5058a641-ecc8-4ed3-a1d4-e58ba1deb548"
      },
      "execution_count": null,
      "outputs": [
        {
          "output_type": "stream",
          "name": "stdout",
          "text": [
            "[4323.592329978943, 4175.726728796959, 4107.355504512787, 4064.239069700241, 4022.7922242879868, 3989.4261981248856, 3935.5492820739746, 3912.4000458717346, 3898.142170071602, 3887.275264143944, 3861.8062674999237, 3832.041222333908, 3795.107927083969, 3783.09561753273, 3774.0008412599564, 3763.422651410103, 3754.9462847709656, 3738.3236619234085, 3686.8106048107147, 3692.9780230522156, 3668.713187456131, 3658.78182053566, 3645.453672885895, 3635.101328611374, 3609.802901148796, 3592.2377380132675, 3581.6092731952667, 3576.0850437879562, 3563.8794932365417, 3581.0977210998535, 3533.1737376451492, 3540.76757645607, 3517.333104610443, 3520.206530213356, 3492.4165757894516, 3510.7897725105286, 3458.588231563568, 3451.560477733612, 3460.242316007614, 3473.0887970924377, 3468.3310599327087, 3481.1099425554276, 3417.736557841301, 3410.435478448868, 3410.3158272504807, 3433.220643877983, 3425.6082923412323, 3422.699299812317, 3361.9121264219284, 3374.8771317005157, 3384.0153288841248, 3376.4538407325745, 3386.177386403084, 3384.2520792484283, 3324.620908141136, 3349.0685386657715, 3343.0292741060257, 3340.0967334508896, 3355.747803211212, 3341.749694108963, 3296.2441624403, 3295.3833770751953, 3319.5935031175613, 3326.92516374588, 3323.5808569192886, 3314.818797469139, 3273.899675011635, 3265.101303100586, 3302.806391119957, 3272.7873369455338, 3288.1047971248627, 3282.6953188180923, 3249.8381009101868, 3245.7904192209244, 3251.888499379158, 3260.32370197773, 3266.09938454628, 3268.9043321609497, 3222.910723924637, 3226.739372253418, 3235.50332903862, 3243.903967857361, 3232.8410592079163, 3253.2686820030212, 3215.2820177078247, 3197.2370396852493, 3218.6499215364456, 3217.161968588829, 3218.9620460271835, 3220.3885782957077, 3190.132860183716, 3199.9755955934525, 3202.078113555908, 3194.2333102226257, 3206.62422978878, 3198.842608809471, 3179.8173788785934, 3177.3372077941895, 3182.0167533159256, 3180.9351329803467, 3189.3479616642, 3185.2422485351562, 3166.2406661510468, 3163.824285387993, 3179.9568197727203, 3173.1210317611694, 3181.1727825403214, 3168.371862888336, 3151.0752865076065, 3146.6435462236404, 3159.8412135839462, 3164.01182281971, 3155.935449361801, 3167.5105199813843, 3149.701857328415, 3142.5420368909836, 3154.433206319809, 3151.9495025873184, 3149.5111742019653, 3152.9303196668625, 3141.7223485708237, 3132.5557309389114, 3136.4535658359528, 3152.281578183174, 3144.8027359247208, 3142.0459365844727, 3137.1119842529297, 3124.997292280197, 3138.2422592639923, 3125.502375483513, 3137.576079249382, 3144.4908363819122, 3130.3932584524155, 3123.8980679512024, 3134.6022675037384, 3124.7454246282578, 3138.2322404384613, 3124.3208104372025, 3114.9732810258865, 3116.7622213363647, 3113.5285329818726, 3124.6109920740128, 3120.3695818185806, 3133.7989124059677, 3113.137408018112, 3119.092252612114, 3105.8045325279236, 3117.89815056324, 3117.436790704727, 3124.3052760362625, 3106.7684116363525, 3120.232519507408, 3109.682581424713, 3112.00716483593, 3113.386835336685, 3119.3292857408524, 3101.841239929199, 3101.343795776367, 3114.6154460906982, 3103.333531141281, 3107.6818705797195, 3116.904058456421, 3102.3544467687607, 3101.42902135849, 3108.663664340973, 3101.0743305683136, 3110.025490760803, 3097.4147803783417, 3094.1868945360184, 3092.4667953252792, 3109.5363990068436, 3101.3709745407104, 3104.3536390066147, 3092.284301996231, 3094.723355650902, 3098.929835677147, 3099.8093267679214, 3088.805729985237, 3095.441985964775, 3109.226880788803, 3096.016419529915, 3092.4549211263657, 3096.320497393608, 3093.969212293625, 3089.0060420036316, 3094.376383662224, 3095.6764880418777, 3080.194733977318, 3096.754401564598, 3090.51997923851, 3085.7067465782166, 3103.6952221393585, 3094.333790540695, 3087.2563759088516, 3083.22960293293, 3090.155411720276, 3095.0305095911026, 3089.537254214287, 3086.635915517807, 3083.1667877435684, 3082.2026886940002, 3096.037326693535, 3104.3938252925873, 3082.712027668953, 3073.835736513138, 3085.555251479149, 3076.7542424201965, 3092.751485109329, 3087.093123316765, 3087.875964164734, 3079.151365876198, 3079.6217445135117, 3090.2064555883408, 3089.7808331251144, 3089.688301086426, 3072.1799631118774, 3078.3752516508102, 3096.2690572738647, 3070.516826272011, 3086.824807405472, 3088.7134083509445, 3080.1194306612015, 3081.2734500169754, 3065.4433492422104, 3085.355975627899, 3075.9361147880554, 3092.426545739174, 3078.789810538292, 3075.60735809803, 3072.413405418396, 3077.419008255005, 3072.7619314193726, 3084.304924249649, 3082.1895546913147, 3073.9702994823456, 3066.2166751623154, 3090.0697243213654, 3065.9888817071915, 3082.2717987298965, 3085.7277368307114, 3078.806026697159, 3079.5341762304306, 3082.444760084152, 3071.6386675834656, 3074.9339332580566, 3065.44529569149, 3075.279592037201, 3063.31041765213, 3073.7735600471497, 3077.5073750019073, 3076.275976061821, 3075.1978855133057, 3074.702447414398, 3060.0287823677063, 3064.671956896782, 3078.1500285863876, 3083.571057200432, 3088.401837706566, 3064.762291431427, 3073.695879817009, 3077.749734044075, 3068.269271492958, 3072.9688225984573, 3068.7042351961136, 3068.8245331048965, 3067.6673622131348, 3072.9103211164474, 3064.0600675344467, 3076.567895412445, 3070.777384877205, 3064.487011551857, 3063.304977416992, 3062.5487768650055, 3060.763028025627, 3082.0956416130066, 3072.934049963951, 3064.8521457910538, 3064.120515346527, 3067.9996395111084, 3071.8631987571716, 3064.054561138153, 3070.2482837438583, 3065.2781826257706, 3066.560845851898, 3066.286484360695, 3072.3601503372192, 3074.5956375598907, 3070.65815615654, 3059.056614756584, 3072.6773812770844, 3070.791640162468, 3077.884943008423, 3070.9809752702713, 3061.3092749118805, 3060.720012664795, 3068.3919845819473, 3066.2739865779877, 3059.82537984848, 3058.9728313684464, 3067.4009100198746, 3066.8737456798553, 3059.888727426529, 3076.303817629814, 3057.359608054161, 3059.550703406334, 3060.986858844757]\n"
          ]
        }
      ]
    },
    {
      "cell_type": "code",
      "source": [
        "import numpy as np\n",
        "\n",
        "loss_history = np.array(loss_history)/2000\n",
        "print(loss_history)"
      ],
      "metadata": {
        "colab": {
          "base_uri": "https://localhost:8080/"
        },
        "id": "d072YINHgcMQ",
        "outputId": "a05fc365-87a0-4e2f-a7d5-0a2999163082"
      },
      "execution_count": null,
      "outputs": [
        {
          "output_type": "stream",
          "name": "stdout",
          "text": [
            "[2.16179616 2.08786336 2.05367775 2.03211953 2.01139611 1.9947131\n",
            " 1.96777464 1.95620002 1.94907109 1.94363763 1.93090313 1.91602061\n",
            " 1.89755396 1.89154781 1.88700042 1.88171133 1.87747314 1.86916183\n",
            " 1.8434053  1.84648901 1.83435659 1.82939091 1.82272684 1.81755066\n",
            " 1.80490145 1.79611887 1.79080464 1.78804252 1.78193975 1.79054886\n",
            " 1.76658687 1.77038379 1.75866655 1.76010327 1.74620829 1.75539489\n",
            " 1.72929412 1.72578024 1.73012116 1.7365444  1.73416553 1.74055497\n",
            " 1.70886828 1.70521774 1.70515791 1.71661032 1.71280415 1.71134965\n",
            " 1.68095606 1.68743857 1.69200766 1.68822692 1.69308869 1.69212604\n",
            " 1.66231045 1.67453427 1.67151464 1.67004837 1.6778739  1.67087485\n",
            " 1.64812208 1.64769169 1.65979675 1.66346258 1.66179043 1.6574094\n",
            " 1.63694984 1.63255065 1.6514032  1.63639367 1.6440524  1.64134766\n",
            " 1.62491905 1.62289521 1.62594425 1.63016185 1.63304969 1.63445217\n",
            " 1.61145536 1.61336969 1.61775166 1.62195198 1.61642053 1.62663434\n",
            " 1.60764101 1.59861852 1.60932496 1.60858098 1.60948102 1.61019429\n",
            " 1.59506643 1.5999878  1.60103906 1.59711666 1.60331211 1.5994213\n",
            " 1.58990869 1.5886686  1.59100838 1.59046757 1.59467398 1.59262112\n",
            " 1.58312033 1.58191214 1.58997841 1.58656052 1.59058639 1.58418593\n",
            " 1.57553764 1.57332177 1.57992061 1.58200591 1.57796772 1.58375526\n",
            " 1.57485093 1.57127102 1.5772166  1.57597475 1.57475559 1.57646516\n",
            " 1.57086117 1.56627787 1.56822678 1.57614079 1.57240137 1.57102297\n",
            " 1.56855599 1.56249865 1.56912113 1.56275119 1.56878804 1.57224542\n",
            " 1.56519663 1.56194903 1.56730113 1.56237271 1.56911612 1.56216041\n",
            " 1.55748664 1.55838111 1.55676427 1.5623055  1.56018479 1.56689946\n",
            " 1.5565687  1.55954613 1.55290227 1.55894908 1.5587184  1.56215264\n",
            " 1.55338421 1.56011626 1.55484129 1.55600358 1.55669342 1.55966464\n",
            " 1.55092062 1.5506719  1.55730772 1.55166677 1.55384094 1.55845203\n",
            " 1.55117722 1.55071451 1.55433183 1.55053717 1.55501275 1.54870739\n",
            " 1.54709345 1.5462334  1.5547682  1.55068549 1.55217682 1.54614215\n",
            " 1.54736168 1.54946492 1.54990466 1.54440286 1.54772099 1.55461344\n",
            " 1.54800821 1.54622746 1.54816025 1.54698461 1.54450302 1.54718819\n",
            " 1.54783824 1.54009737 1.5483772  1.54525999 1.54285337 1.55184761\n",
            " 1.5471669  1.54362819 1.5416148  1.54507771 1.54751525 1.54476863\n",
            " 1.54331796 1.54158339 1.54110134 1.54801866 1.55219691 1.54135601\n",
            " 1.53691787 1.54277763 1.53837712 1.54637574 1.54354656 1.54393798\n",
            " 1.53957568 1.53981087 1.54510323 1.54489042 1.54484415 1.53608998\n",
            " 1.53918763 1.54813453 1.53525841 1.5434124  1.5443567  1.54005972\n",
            " 1.54063673 1.53272167 1.54267799 1.53796806 1.54621327 1.53939491\n",
            " 1.53780368 1.5362067  1.5387095  1.53638097 1.54215246 1.54109478\n",
            " 1.53698515 1.53310834 1.54503486 1.53299444 1.5411359  1.54286387\n",
            " 1.53940301 1.53976709 1.54122238 1.53581933 1.53746697 1.53272265\n",
            " 1.5376398  1.53165521 1.53688678 1.53875369 1.53813799 1.53759894\n",
            " 1.53735122 1.53001439 1.53233598 1.53907501 1.54178553 1.54420092\n",
            " 1.53238115 1.53684794 1.53887487 1.53413464 1.53648441 1.53435212\n",
            " 1.53441227 1.53383368 1.53645516 1.53203003 1.53828395 1.53538869\n",
            " 1.53224351 1.53165249 1.53127439 1.53038151 1.54104782 1.53646702\n",
            " 1.53242607 1.53206026 1.53399982 1.5359316  1.53202728 1.53512414\n",
            " 1.53263909 1.53328042 1.53314324 1.53618008 1.53729782 1.53532908\n",
            " 1.52952831 1.53633869 1.53539582 1.53894247 1.53549049 1.53065464\n",
            " 1.53036001 1.53419599 1.53313699 1.52991269 1.52948642 1.53370046\n",
            " 1.53343687 1.52994436 1.53815191 1.5286798  1.52977535 1.53049343]\n"
          ]
        }
      ]
    },
    {
      "cell_type": "code",
      "source": [
        "import matplotlib.pyplot as plt\n",
        "plt.plot(loss_history)"
      ],
      "metadata": {
        "colab": {
          "base_uri": "https://localhost:8080/",
          "height": 282
        },
        "id": "pJzatJTghPOj",
        "outputId": "e3a52448-b7fa-4a40-e42b-ca572e92b786"
      },
      "execution_count": null,
      "outputs": [
        {
          "output_type": "execute_result",
          "data": {
            "text/plain": [
              "[<matplotlib.lines.Line2D at 0x7f1c3da23e50>]"
            ]
          },
          "metadata": {},
          "execution_count": 30
        },
        {
          "output_type": "display_data",
          "data": {
            "image/png": "[encoded data removed]",
            "text/plain": [
              "<Figure size 432x288 with 1 Axes>"
            ]
          },
          "metadata": {
            "needs_background": "light"
          }
        }
      ]
    },
    {
      "cell_type": "code",
      "source": [
        "PATH = './cifar_net-custom.pth'\n",
        "torch.save(net.state_dict(), PATH)"
      ],
      "metadata": {
        "id": "gmUaUs2KVbgj"
      },
      "execution_count": null,
      "outputs": []
    },
    {
      "cell_type": "code",
      "source": [
        "dataiter = iter(testloader)\n",
        "images, labels = dataiter.next()\n",
        "\n",
        "# print images\n",
        "imshow(torchvision.utils.make_grid(images))\n",
        "print('GroundTruth: ', ' '.join('%5s' % classes[labels[j]] for j in range(4)))"
      ],
      "metadata": {
        "colab": {
          "base_uri": "https://localhost:8080/",
          "height": 155
        },
        "id": "Nr-RrA3cWwQG",
        "outputId": "d4801a69-23eb-4e2f-bd4a-ab9eb794913a"
      },
      "execution_count": null,
      "outputs": [
        {
          "output_type": "display_data",
          "data": {
            "image/png": "[encoded data removed]",
            "text/plain": [
              "<Figure size 432x288 with 1 Axes>"
            ]
          },
          "metadata": {
            "needs_background": "light"
          }
        },
        {
          "output_type": "stream",
          "name": "stdout",
          "text": [
            "GroundTruth:    cat  ship  ship plane\n"
          ]
        }
      ]
    },
    {
      "cell_type": "code",
      "source": [
        "net = Net()\n",
        "net.load_state_dict(torch.load(PATH))"
      ],
      "metadata": {
        "colab": {
          "base_uri": "https://localhost:8080/"
        },
        "id": "2PauNZMeWzxA",
        "outputId": "8fa210e3-8c73-4469-d24c-98e3d0f25b0f"
      },
      "execution_count": null,
      "outputs": [
        {
          "output_type": "execute_result",
          "data": {
            "text/plain": [
              "<All keys matched successfully>"
            ]
          },
          "metadata": {},
          "execution_count": 21
        }
      ]
    },
    {
      "cell_type": "code",
      "source": [
        "outputs = net(images)"
      ],
      "metadata": {
        "id": "JZiqq8MXW3qa"
      },
      "execution_count": null,
      "outputs": []
    },
    {
      "cell_type": "code",
      "source": [
        "correct = 0\n",
        "total = 0\n",
        "# since we're not training, we don't need to calculate the gradients for our outputs\n",
        "with torch.no_grad():\n",
        "    for data in testloader:\n",
        "        images, labels = data\n",
        "        # calculate outputs by running images through the network\n",
        "        outputs = net(images)\n",
        "        # the class with the highest energy is what we choose as prediction\n",
        "        _, predicted = torch.max(outputs.data, 1)\n",
        "        total += labels.size(0)\n",
        "        correct += (predicted == labels).sum().item()\n",
        "\n",
        "print('Accuracy of the network on the 10000 test images: %d %%' % (\n",
        "    100 * correct / total))"
      ],
      "metadata": {
        "colab": {
          "base_uri": "https://localhost:8080/"
        },
        "id": "n58jmqh2W6ef",
        "outputId": "61675d9a-2032-47b8-beb1-1f07a38f6aeb"
      },
      "execution_count": null,
      "outputs": [
        {
          "output_type": "stream",
          "name": "stdout",
          "text": [
            "Accuracy of the network on the 10000 test images: 73 %\n"
          ]
        }
      ]
    },
    {
      "cell_type": "code",
      "source": [
        ""
      ],
      "metadata": {
        "id": "L0nnMCVRW8mO"
      },
      "execution_count": null,
      "outputs": []
    }
  ]
}